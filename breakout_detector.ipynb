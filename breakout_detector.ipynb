{
  "nbformat": 4,
  "nbformat_minor": 0,
  "metadata": {
    "colab": {
      "name": "breakout_detector.ipynb",
      "provenance": [],
      "authorship_tag": "ABX9TyOHypkg2QoKzbpl5glFF5lF",
      "include_colab_link": true
    },
    "kernelspec": {
      "name": "python3",
      "display_name": "Python 3"
    },
    "language_info": {
      "name": "python"
    }
  },
  "cells": [
    {
      "cell_type": "markdown",
      "metadata": {
        "id": "view-in-github",
        "colab_type": "text"
      },
      "source": [
        "<a href=\"https://colab.research.google.com/github/iritwikdas/support_resistance_breakout/blob/main/breakout_detector.ipynb\" target=\"_parent\"><img src=\"https://colab.research.google.com/assets/colab-badge.svg\" alt=\"Open In Colab\"/></a>"
      ]
    },
    {
      "cell_type": "code",
      "metadata": {
        "colab": {
          "base_uri": "https://localhost:8080/"
        },
        "id": "6Eyunr2ihdBi",
        "outputId": "31ebca7d-4432-4288-c7d6-a5557dfad206"
      },
      "source": [
        "!pip install yfinance\n",
        "!pip install mplfinance\n",
        "import pandas as pd\n",
        "import yfinance as yf\n",
        "import numpy as np\n",
        "import math\n",
        "from mplfinance.original_flavor import candlestick_ohlc\n",
        "import matplotlib.dates as mpl_dates\n",
        "import matplotlib.pyplot as plt"
      ],
      "execution_count": 134,
      "outputs": [
        {
          "output_type": "stream",
          "name": "stdout",
          "text": [
            "Requirement already satisfied: yfinance in /usr/local/lib/python3.7/dist-packages (0.1.63)\n",
            "Requirement already satisfied: pandas>=0.24 in /usr/local/lib/python3.7/dist-packages (from yfinance) (1.1.5)\n",
            "Requirement already satisfied: multitasking>=0.0.7 in /usr/local/lib/python3.7/dist-packages (from yfinance) (0.0.9)\n",
            "Requirement already satisfied: requests>=2.20 in /usr/local/lib/python3.7/dist-packages (from yfinance) (2.23.0)\n",
            "Requirement already satisfied: lxml>=4.5.1 in /usr/local/lib/python3.7/dist-packages (from yfinance) (4.6.3)\n",
            "Requirement already satisfied: numpy>=1.15 in /usr/local/lib/python3.7/dist-packages (from yfinance) (1.19.5)\n",
            "Requirement already satisfied: pytz>=2017.2 in /usr/local/lib/python3.7/dist-packages (from pandas>=0.24->yfinance) (2018.9)\n",
            "Requirement already satisfied: python-dateutil>=2.7.3 in /usr/local/lib/python3.7/dist-packages (from pandas>=0.24->yfinance) (2.8.2)\n",
            "Requirement already satisfied: six>=1.5 in /usr/local/lib/python3.7/dist-packages (from python-dateutil>=2.7.3->pandas>=0.24->yfinance) (1.15.0)\n",
            "Requirement already satisfied: certifi>=2017.4.17 in /usr/local/lib/python3.7/dist-packages (from requests>=2.20->yfinance) (2021.5.30)\n",
            "Requirement already satisfied: chardet<4,>=3.0.2 in /usr/local/lib/python3.7/dist-packages (from requests>=2.20->yfinance) (3.0.4)\n",
            "Requirement already satisfied: urllib3!=1.25.0,!=1.25.1,<1.26,>=1.21.1 in /usr/local/lib/python3.7/dist-packages (from requests>=2.20->yfinance) (1.24.3)\n",
            "Requirement already satisfied: idna<3,>=2.5 in /usr/local/lib/python3.7/dist-packages (from requests>=2.20->yfinance) (2.10)\n",
            "Requirement already satisfied: mplfinance in /usr/local/lib/python3.7/dist-packages (0.12.7a17)\n",
            "Requirement already satisfied: pandas in /usr/local/lib/python3.7/dist-packages (from mplfinance) (1.1.5)\n",
            "Requirement already satisfied: matplotlib in /usr/local/lib/python3.7/dist-packages (from mplfinance) (3.2.2)\n",
            "Requirement already satisfied: pyparsing!=2.0.4,!=2.1.2,!=2.1.6,>=2.0.1 in /usr/local/lib/python3.7/dist-packages (from matplotlib->mplfinance) (2.4.7)\n",
            "Requirement already satisfied: python-dateutil>=2.1 in /usr/local/lib/python3.7/dist-packages (from matplotlib->mplfinance) (2.8.2)\n",
            "Requirement already satisfied: kiwisolver>=1.0.1 in /usr/local/lib/python3.7/dist-packages (from matplotlib->mplfinance) (1.3.2)\n",
            "Requirement already satisfied: cycler>=0.10 in /usr/local/lib/python3.7/dist-packages (from matplotlib->mplfinance) (0.10.0)\n",
            "Requirement already satisfied: numpy>=1.11 in /usr/local/lib/python3.7/dist-packages (from matplotlib->mplfinance) (1.19.5)\n",
            "Requirement already satisfied: six in /usr/local/lib/python3.7/dist-packages (from cycler>=0.10->matplotlib->mplfinance) (1.15.0)\n",
            "Requirement already satisfied: pytz>=2017.2 in /usr/local/lib/python3.7/dist-packages (from pandas->mplfinance) (2018.9)\n"
          ]
        }
      ]
    },
    {
      "cell_type": "code",
      "metadata": {
        "colab": {
          "base_uri": "https://localhost:8080/"
        },
        "id": "ep6bXsz8iFTh",
        "outputId": "a2541ae9-3cea-45c0-a525-6510006da803"
      },
      "source": [
        "def get_stock_price(symbol):\n",
        "  df = yf.download(symbol, start='2021-02-01', threads= False)\n",
        "  df['Date'] = pd.to_datetime(df.index)\n",
        "  df['Date'] = df['Date'].apply(mpl_dates.date2num)\n",
        "  df = df.loc[:,['Date', 'Open', 'High', 'Low', 'Close']]\n",
        "  return df\n",
        "symbol = '^NSEI'\n",
        "df = get_stock_price(symbol)\n"
      ],
      "execution_count": 135,
      "outputs": [
        {
          "output_type": "stream",
          "name": "stdout",
          "text": [
            "[*********************100%***********************]  1 of 1 completed\n"
          ]
        }
      ]
    },
    {
      "cell_type": "code",
      "metadata": {
        "colab": {
          "base_uri": "https://localhost:8080/",
          "height": 450
        },
        "id": "PAcFtGDEjZH_",
        "outputId": "2d3164dc-8d21-49b8-aa00-7e84764f2455"
      },
      "source": [
        "df"
      ],
      "execution_count": 136,
      "outputs": [
        {
          "output_type": "execute_result",
          "data": {
            "text/html": [
              "<div>\n",
              "<style scoped>\n",
              "    .dataframe tbody tr th:only-of-type {\n",
              "        vertical-align: middle;\n",
              "    }\n",
              "\n",
              "    .dataframe tbody tr th {\n",
              "        vertical-align: top;\n",
              "    }\n",
              "\n",
              "    .dataframe thead th {\n",
              "        text-align: right;\n",
              "    }\n",
              "</style>\n",
              "<table border=\"1\" class=\"dataframe\">\n",
              "  <thead>\n",
              "    <tr style=\"text-align: right;\">\n",
              "      <th></th>\n",
              "      <th>Date</th>\n",
              "      <th>Open</th>\n",
              "      <th>High</th>\n",
              "      <th>Low</th>\n",
              "      <th>Close</th>\n",
              "    </tr>\n",
              "    <tr>\n",
              "      <th>Date</th>\n",
              "      <th></th>\n",
              "      <th></th>\n",
              "      <th></th>\n",
              "      <th></th>\n",
              "      <th></th>\n",
              "    </tr>\n",
              "  </thead>\n",
              "  <tbody>\n",
              "    <tr>\n",
              "      <th>2021-02-01</th>\n",
              "      <td>737822.0</td>\n",
              "      <td>13758.599609</td>\n",
              "      <td>14336.349609</td>\n",
              "      <td>13661.750000</td>\n",
              "      <td>14281.200195</td>\n",
              "    </tr>\n",
              "    <tr>\n",
              "      <th>2021-02-02</th>\n",
              "      <td>737823.0</td>\n",
              "      <td>14481.099609</td>\n",
              "      <td>14731.700195</td>\n",
              "      <td>14469.150391</td>\n",
              "      <td>14647.849609</td>\n",
              "    </tr>\n",
              "    <tr>\n",
              "      <th>2021-02-03</th>\n",
              "      <td>737824.0</td>\n",
              "      <td>14754.900391</td>\n",
              "      <td>14868.849609</td>\n",
              "      <td>14574.150391</td>\n",
              "      <td>14789.950195</td>\n",
              "    </tr>\n",
              "    <tr>\n",
              "      <th>2021-02-04</th>\n",
              "      <td>737825.0</td>\n",
              "      <td>14789.049805</td>\n",
              "      <td>14913.700195</td>\n",
              "      <td>14714.750000</td>\n",
              "      <td>14895.650391</td>\n",
              "    </tr>\n",
              "    <tr>\n",
              "      <th>2021-02-05</th>\n",
              "      <td>737826.0</td>\n",
              "      <td>14952.599609</td>\n",
              "      <td>15014.650391</td>\n",
              "      <td>14864.750000</td>\n",
              "      <td>14924.250000</td>\n",
              "    </tr>\n",
              "    <tr>\n",
              "      <th>...</th>\n",
              "      <td>...</td>\n",
              "      <td>...</td>\n",
              "      <td>...</td>\n",
              "      <td>...</td>\n",
              "      <td>...</td>\n",
              "    </tr>\n",
              "    <tr>\n",
              "      <th>2021-10-08</th>\n",
              "      <td>738071.0</td>\n",
              "      <td>17886.849609</td>\n",
              "      <td>17941.849609</td>\n",
              "      <td>17840.349609</td>\n",
              "      <td>17895.199219</td>\n",
              "    </tr>\n",
              "    <tr>\n",
              "      <th>2021-10-11</th>\n",
              "      <td>738074.0</td>\n",
              "      <td>17867.550781</td>\n",
              "      <td>18041.949219</td>\n",
              "      <td>17839.099609</td>\n",
              "      <td>17945.949219</td>\n",
              "    </tr>\n",
              "    <tr>\n",
              "      <th>2021-10-12</th>\n",
              "      <td>738075.0</td>\n",
              "      <td>17915.800781</td>\n",
              "      <td>18008.650391</td>\n",
              "      <td>17864.949219</td>\n",
              "      <td>17991.949219</td>\n",
              "    </tr>\n",
              "    <tr>\n",
              "      <th>2021-10-13</th>\n",
              "      <td>738076.0</td>\n",
              "      <td>18097.849609</td>\n",
              "      <td>18197.800781</td>\n",
              "      <td>18050.750000</td>\n",
              "      <td>18161.750000</td>\n",
              "    </tr>\n",
              "    <tr>\n",
              "      <th>2021-10-14</th>\n",
              "      <td>738077.0</td>\n",
              "      <td>18272.849609</td>\n",
              "      <td>18350.750000</td>\n",
              "      <td>18248.699219</td>\n",
              "      <td>18338.550781</td>\n",
              "    </tr>\n",
              "  </tbody>\n",
              "</table>\n",
              "<p>175 rows × 5 columns</p>\n",
              "</div>"
            ],
            "text/plain": [
              "                Date          Open          High           Low         Close\n",
              "Date                                                                        \n",
              "2021-02-01  737822.0  13758.599609  14336.349609  13661.750000  14281.200195\n",
              "2021-02-02  737823.0  14481.099609  14731.700195  14469.150391  14647.849609\n",
              "2021-02-03  737824.0  14754.900391  14868.849609  14574.150391  14789.950195\n",
              "2021-02-04  737825.0  14789.049805  14913.700195  14714.750000  14895.650391\n",
              "2021-02-05  737826.0  14952.599609  15014.650391  14864.750000  14924.250000\n",
              "...              ...           ...           ...           ...           ...\n",
              "2021-10-08  738071.0  17886.849609  17941.849609  17840.349609  17895.199219\n",
              "2021-10-11  738074.0  17867.550781  18041.949219  17839.099609  17945.949219\n",
              "2021-10-12  738075.0  17915.800781  18008.650391  17864.949219  17991.949219\n",
              "2021-10-13  738076.0  18097.849609  18197.800781  18050.750000  18161.750000\n",
              "2021-10-14  738077.0  18272.849609  18350.750000  18248.699219  18338.550781\n",
              "\n",
              "[175 rows x 5 columns]"
            ]
          },
          "metadata": {},
          "execution_count": 136
        }
      ]
    },
    {
      "cell_type": "code",
      "metadata": {
        "id": "8Kmuc8l_ogp5"
      },
      "source": [
        "#Bullish Fractal\n",
        "\n",
        "def is_support(df,i):\n",
        "  cond1 = df['Low'][i] < df['Low'][i-1]\n",
        "  cond2 = df['Low'][i] < df['Low'][i+1]\n",
        "  cond3 = df['Low'][i+1] < df['Low'][i+2]\n",
        "  cond4 = df['Low'][i-1] < df['Low'][i-2]\n",
        "  return(cond1 and cond2 and cond3 and cond4)\n",
        "\n",
        "#Bearish Fractal\n",
        "\n",
        "def is_resistance(df,i):\n",
        "  cond1 = df['High'][i] > df['High'][i-1]\n",
        "  cond2 = df['High'][i] > df['High'][i+1]\n",
        "  cond3 = df['High'][i+1] > df['High'][i+2]\n",
        "  cond4 = df['High'][i-1] > df['High'][i-2]\n",
        "  return(cond1 and cond2 and cond3 and cond4)"
      ],
      "execution_count": 137,
      "outputs": []
    },
    {
      "cell_type": "code",
      "metadata": {
        "id": "XuvcdVv5rCjc"
      },
      "source": [
        "def is_far_from_level(value, levels, df):\n",
        "  ave = np.mean(df['High']-df['Low'])\n",
        "  return np.sum([abs(value-level)<ave for _, level in levels]) == 0"
      ],
      "execution_count": 138,
      "outputs": []
    },
    {
      "cell_type": "code",
      "metadata": {
        "id": "6CAzOAecrvFI"
      },
      "source": [
        "levels = []\n",
        "\n",
        "for i in range(2,df.shape[0]-2):\n",
        "  if is_support(df,i):\n",
        "    low = df['Low'][i]\n",
        "    if is_far_from_level(low, levels, df):\n",
        "      levels.append((i,low))\n",
        "  elif is_resistance(df,i):\n",
        "    high = df['High'][i]\n",
        "    if is_far_from_level(high, levels, df):\n",
        "      levels.append((i,high))"
      ],
      "execution_count": 139,
      "outputs": []
    },
    {
      "cell_type": "code",
      "metadata": {
        "colab": {
          "base_uri": "https://localhost:8080/",
          "height": 450
        },
        "id": "BXfdfWif2H9t",
        "outputId": "394dca4f-2cf7-4565-b140-b75173a43ed4"
      },
      "source": [
        "df"
      ],
      "execution_count": 140,
      "outputs": [
        {
          "output_type": "execute_result",
          "data": {
            "text/html": [
              "<div>\n",
              "<style scoped>\n",
              "    .dataframe tbody tr th:only-of-type {\n",
              "        vertical-align: middle;\n",
              "    }\n",
              "\n",
              "    .dataframe tbody tr th {\n",
              "        vertical-align: top;\n",
              "    }\n",
              "\n",
              "    .dataframe thead th {\n",
              "        text-align: right;\n",
              "    }\n",
              "</style>\n",
              "<table border=\"1\" class=\"dataframe\">\n",
              "  <thead>\n",
              "    <tr style=\"text-align: right;\">\n",
              "      <th></th>\n",
              "      <th>Date</th>\n",
              "      <th>Open</th>\n",
              "      <th>High</th>\n",
              "      <th>Low</th>\n",
              "      <th>Close</th>\n",
              "    </tr>\n",
              "    <tr>\n",
              "      <th>Date</th>\n",
              "      <th></th>\n",
              "      <th></th>\n",
              "      <th></th>\n",
              "      <th></th>\n",
              "      <th></th>\n",
              "    </tr>\n",
              "  </thead>\n",
              "  <tbody>\n",
              "    <tr>\n",
              "      <th>2021-02-01</th>\n",
              "      <td>737822.0</td>\n",
              "      <td>13758.599609</td>\n",
              "      <td>14336.349609</td>\n",
              "      <td>13661.750000</td>\n",
              "      <td>14281.200195</td>\n",
              "    </tr>\n",
              "    <tr>\n",
              "      <th>2021-02-02</th>\n",
              "      <td>737823.0</td>\n",
              "      <td>14481.099609</td>\n",
              "      <td>14731.700195</td>\n",
              "      <td>14469.150391</td>\n",
              "      <td>14647.849609</td>\n",
              "    </tr>\n",
              "    <tr>\n",
              "      <th>2021-02-03</th>\n",
              "      <td>737824.0</td>\n",
              "      <td>14754.900391</td>\n",
              "      <td>14868.849609</td>\n",
              "      <td>14574.150391</td>\n",
              "      <td>14789.950195</td>\n",
              "    </tr>\n",
              "    <tr>\n",
              "      <th>2021-02-04</th>\n",
              "      <td>737825.0</td>\n",
              "      <td>14789.049805</td>\n",
              "      <td>14913.700195</td>\n",
              "      <td>14714.750000</td>\n",
              "      <td>14895.650391</td>\n",
              "    </tr>\n",
              "    <tr>\n",
              "      <th>2021-02-05</th>\n",
              "      <td>737826.0</td>\n",
              "      <td>14952.599609</td>\n",
              "      <td>15014.650391</td>\n",
              "      <td>14864.750000</td>\n",
              "      <td>14924.250000</td>\n",
              "    </tr>\n",
              "    <tr>\n",
              "      <th>...</th>\n",
              "      <td>...</td>\n",
              "      <td>...</td>\n",
              "      <td>...</td>\n",
              "      <td>...</td>\n",
              "      <td>...</td>\n",
              "    </tr>\n",
              "    <tr>\n",
              "      <th>2021-10-08</th>\n",
              "      <td>738071.0</td>\n",
              "      <td>17886.849609</td>\n",
              "      <td>17941.849609</td>\n",
              "      <td>17840.349609</td>\n",
              "      <td>17895.199219</td>\n",
              "    </tr>\n",
              "    <tr>\n",
              "      <th>2021-10-11</th>\n",
              "      <td>738074.0</td>\n",
              "      <td>17867.550781</td>\n",
              "      <td>18041.949219</td>\n",
              "      <td>17839.099609</td>\n",
              "      <td>17945.949219</td>\n",
              "    </tr>\n",
              "    <tr>\n",
              "      <th>2021-10-12</th>\n",
              "      <td>738075.0</td>\n",
              "      <td>17915.800781</td>\n",
              "      <td>18008.650391</td>\n",
              "      <td>17864.949219</td>\n",
              "      <td>17991.949219</td>\n",
              "    </tr>\n",
              "    <tr>\n",
              "      <th>2021-10-13</th>\n",
              "      <td>738076.0</td>\n",
              "      <td>18097.849609</td>\n",
              "      <td>18197.800781</td>\n",
              "      <td>18050.750000</td>\n",
              "      <td>18161.750000</td>\n",
              "    </tr>\n",
              "    <tr>\n",
              "      <th>2021-10-14</th>\n",
              "      <td>738077.0</td>\n",
              "      <td>18272.849609</td>\n",
              "      <td>18350.750000</td>\n",
              "      <td>18248.699219</td>\n",
              "      <td>18338.550781</td>\n",
              "    </tr>\n",
              "  </tbody>\n",
              "</table>\n",
              "<p>175 rows × 5 columns</p>\n",
              "</div>"
            ],
            "text/plain": [
              "                Date          Open          High           Low         Close\n",
              "Date                                                                        \n",
              "2021-02-01  737822.0  13758.599609  14336.349609  13661.750000  14281.200195\n",
              "2021-02-02  737823.0  14481.099609  14731.700195  14469.150391  14647.849609\n",
              "2021-02-03  737824.0  14754.900391  14868.849609  14574.150391  14789.950195\n",
              "2021-02-04  737825.0  14789.049805  14913.700195  14714.750000  14895.650391\n",
              "2021-02-05  737826.0  14952.599609  15014.650391  14864.750000  14924.250000\n",
              "...              ...           ...           ...           ...           ...\n",
              "2021-10-08  738071.0  17886.849609  17941.849609  17840.349609  17895.199219\n",
              "2021-10-11  738074.0  17867.550781  18041.949219  17839.099609  17945.949219\n",
              "2021-10-12  738075.0  17915.800781  18008.650391  17864.949219  17991.949219\n",
              "2021-10-13  738076.0  18097.849609  18197.800781  18050.750000  18161.750000\n",
              "2021-10-14  738077.0  18272.849609  18350.750000  18248.699219  18338.550781\n",
              "\n",
              "[175 rows x 5 columns]"
            ]
          },
          "metadata": {},
          "execution_count": 140
        }
      ]
    },
    {
      "cell_type": "code",
      "metadata": {
        "colab": {
          "base_uri": "https://localhost:8080/",
          "height": 863
        },
        "id": "eCIhpA6psxpN",
        "outputId": "7e970b9b-e356-421e-c0b5-a8a8504313d8"
      },
      "source": [
        "# for visualization\n",
        "\n",
        "plt.style.use('dark_background')\n",
        "ax.grid(True)\n",
        "fig, ax = plt.subplots(figsize=(25, 15))   \n",
        "candlestick_ohlc(ax,df.values,width=0.6, colorup='green', colordown='red', alpha=0.8)    \n",
        "date_format = mpl_dates.DateFormatter('%d %b %Y')\n",
        "ax.xaxis.set_major_formatter(date_format)  \n",
        "\n",
        "for level in levels:        \n",
        "  plt.hlines(level[1], xmin = df['Date'][level[0]], xmax = max(df['Date']), colors='white', linestyle='--') \n",
        "   \n",
        "fig.show()"
      ],
      "execution_count": 145,
      "outputs": [
        {
          "output_type": "display_data",
          "data": {
            "image/png": "[encoded data removed]",
            "text/plain": [
              "<Figure size 1800x1080 with 1 Axes>"
            ]
          },
          "metadata": {}
        }
      ]
    }
  ]
}